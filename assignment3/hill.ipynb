{
 "cells": [
  {
   "cell_type": "code",
   "execution_count": 1,
   "metadata": {},
   "outputs": [],
   "source": [
    "from board import *\n",
    "from timeit import default_timer as timer"
   ]
  },
  {
   "cell_type": "code",
   "execution_count": 7,
   "metadata": {},
   "outputs": [],
   "source": [
    "def hill(initial_state : Board):\n",
    "    current = Board(initial_state.n_queen)\n",
    "    current.map = deepcopy(initial_state.get_map())\n",
    "    current.fitness()\n",
    "    restarts = 0\n",
    "    while True:\n",
    "        neighbor = current.succ() # returns best of all neighbors\n",
    "        neighbor.fitness()\n",
    "        if current.get_fit() <= neighbor.get_fit(): # we checked\n",
    "            if current.get_fit() == 0: # found global optima\n",
    "                return current, restarts\n",
    "            else:\n",
    "                current = Board(initial_state.n_queen)\n",
    "                current.fitness()\n",
    "                restarts += 1\n",
    "        else:\n",
    "            current = neighbor\n",
    "            current.fitness()"
   ]
  },
  {
   "cell_type": "code",
   "execution_count": 13,
   "metadata": {},
   "outputs": [
    {
     "name": "stdout",
     "output_type": "stream",
     "text": [
      "running time: 8.43 ms\n",
      "# of restarts: 5\n",
      "[[0 0 1 0 0]\n",
      " [0 0 0 0 1]\n",
      " [0 1 0 0 0]\n",
      " [0 0 0 1 0]\n",
      " [1 0 0 0 0]]\n",
      "Fitness:  0\n"
     ]
    }
   ],
   "source": [
    "test1 = Board(5)\n",
    "test1.fitness()\n",
    "\n",
    "start = timer()\n",
    "best_found, restarts = hill(test1)\n",
    "end = timer()\n",
    "formatted_time = \"{:.2f}\".format((end - start) * 1000)\n",
    "print(\"running time:\", formatted_time, \"ms\")\n",
    "print(\"# of restarts:\", restarts)\n",
    "best_found.show()"
   ]
  },
  {
   "cell_type": "code",
   "execution_count": null,
   "metadata": {},
   "outputs": [],
   "source": []
  }
 ],
 "metadata": {
  "kernelspec": {
   "display_name": "Python 3",
   "language": "python",
   "name": "python3"
  },
  "language_info": {
   "codemirror_mode": {
    "name": "ipython",
    "version": 3
   },
   "file_extension": ".py",
   "mimetype": "text/x-python",
   "name": "python",
   "nbconvert_exporter": "python",
   "pygments_lexer": "ipython3",
   "version": "3.8.5"
  }
 },
 "nbformat": 4,
 "nbformat_minor": 4
}
