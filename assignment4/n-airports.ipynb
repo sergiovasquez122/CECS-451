{
 "cells": [
  {
   "cell_type": "code",
   "execution_count": 272,
   "metadata": {},
   "outputs": [
    {
     "data": {
      "text/plain": [
       "<module 'matplotlib.pyplot' from 'C:\\\\Users\\\\sergi\\\\anaconda3\\\\lib\\\\site-packages\\\\matplotlib\\\\pyplot.py'>"
      ]
     },
     "execution_count": 272,
     "metadata": {},
     "output_type": "execute_result"
    },
    {
     "data": {
      "image/png": "[encoded data removed]",
      "text/plain": [
       "<Figure size 432x288 with 1 Axes>"
      ]
     },
     "metadata": {
      "needs_background": "light"
     },
     "output_type": "display_data"
    }
   ],
   "source": [
    "import random\n",
    "import numpy as np\n",
    "\n",
    "num_city = 100\n",
    "num_air = 3\n",
    "num_center = 5\n",
    "sigma = 0.1\n",
    "cities = set()\n",
    "airports = []\n",
    "\n",
    "for i in range(num_center):\n",
    "    x = random.random()\n",
    "    y = random.random()\n",
    "    xc = np.random.normal(x, sigma, num_city//num_center)\n",
    "    yc = np.random.normal(y, sigma, num_city//num_center)\n",
    "    cities = cities.union(zip(xc, yc))\n",
    "\n",
    "\n",
    "for i in range(num_air):\n",
    "    x = random.random()\n",
    "    y = random.random()\n",
    "    airports.append((x,y)) \n",
    "\n",
    "import matplotlib.pyplot as plt\n",
    "\n",
    "zip_cities = zip(*cities)\n",
    "plt.scatter(*zip_cities, marker='+',color='b', label='Cities')\n",
    "zip_airs = zip(*airports)\n",
    "plt.scatter(*zip_airs, marker='*', color='r', s=100, label='Airports')\n",
    "plt.legend()\n",
    "plt"
   ]
  },
  {
   "cell_type": "code",
   "execution_count": 273,
   "metadata": {},
   "outputs": [],
   "source": [
    "cities = np.array(list(cities))"
   ]
  },
  {
   "cell_type": "code",
   "execution_count": 274,
   "metadata": {},
   "outputs": [],
   "source": [
    "airports = np.array(airports)"
   ]
  },
  {
   "cell_type": "code",
   "execution_count": 275,
   "metadata": {},
   "outputs": [],
   "source": [
    "def find_closest_airports(cities, aiports):\n",
    "    idx = np.array([0 for _ in range(len(cities))])\n",
    "    for i in range(len(cities)):\n",
    "        city_i = cities[i]\n",
    "        min_distance = float('inf')\n",
    "        for k in range(len(airports)):\n",
    "            kth_airport = airports[k]\n",
    "            distance = (city_i - kth_airport).T.dot(city_i - kth_airport)\n",
    "            if distance < min_distance:\n",
    "                min_distance = distance\n",
    "                idx[i] = k\n",
    "    return idx"
   ]
  },
  {
   "cell_type": "code",
   "execution_count": 276,
   "metadata": {},
   "outputs": [],
   "source": [
    "def objective_score(cities, airports):\n",
    "    score = 0\n",
    "    idx = find_closest_airports(cities, airports)\n",
    "    for i in range(len(airports)):\n",
    "        elements = cities[idx == i]\n",
    "        for element in elements:\n",
    "            score += (element - airports[i]).T.dot(element - airports[i])\n",
    "    return score"
   ]
  },
  {
   "cell_type": "code",
   "execution_count": 277,
   "metadata": {},
   "outputs": [],
   "source": [
    "def gradient(cities, airports):\n",
    "    idx = find_closest_airports(cities, airports)\n",
    "    gradient_of_f = [0 for _ in range(len(airports))]\n",
    "    for i in range(len(airports)):\n",
    "        gradient_xi = 0\n",
    "        gradient_yi = 0\n",
    "        elements = cities[idx == i]\n",
    "        gradient_xi = 2 * (np.sum(airports[i][0] - elements[:, 0]))\n",
    "        gradient_yi = 2 * (np.sum(airports[i][1] - elements[:, 1]))\n",
    "        gradient_of_f[i] = (gradient_xi, gradient_yi)\n",
    "    return np.array(gradient_of_f)"
   ]
  },
  {
   "cell_type": "code",
   "execution_count": 278,
   "metadata": {},
   "outputs": [],
   "source": [
    "def gradient_descent(cities, airports, epochs = 50, learning_rate = .01):\n",
    "    objective_scores = []\n",
    "    airport_locations = []\n",
    "    for _ in range(epochs):\n",
    "        objective_scores.append(objective_score(cities, airports))\n",
    "        grad = gradient(cities, airports)\n",
    "        airports -= learning_rate * grad\n",
    "        airport_locations.append(airports)\n",
    "    return objective_scores"
   ]
  },
  {
   "cell_type": "code",
   "execution_count": 279,
   "metadata": {},
   "outputs": [],
   "source": [
    "objective_scores = gradient_descent(cities, airports)"
   ]
  },
  {
   "cell_type": "code",
   "execution_count": 280,
   "metadata": {},
   "outputs": [
    {
     "data": {
      "text/plain": [
       "<module 'matplotlib.pyplot' from 'C:\\\\Users\\\\sergi\\\\anaconda3\\\\lib\\\\site-packages\\\\matplotlib\\\\pyplot.py'>"
      ]
     },
     "execution_count": 280,
     "metadata": {},
     "output_type": "execute_result"
    },
    {
     "data": {
      "image/png": "[encoded data removed]",
      "text/plain": [
       "<Figure size 432x288 with 1 Axes>"
      ]
     },
     "metadata": {
      "needs_background": "light"
     },
     "output_type": "display_data"
    }
   ],
   "source": [
    "zip_cities = zip(*cities)\n",
    "plt.scatter(*zip_cities, marker='+',color='b', label='Cities')\n",
    "zip_airs = zip(*airports)\n",
    "plt.scatter(*zip_airs, marker='*', color='r', s=100, label='Airports')\n",
    "plt.legend()\n",
    "plt"
   ]
  },
  {
   "cell_type": "code",
   "execution_count": 281,
   "metadata": {},
   "outputs": [],
   "source": [
    "def plot_objective_functions(objective_scores):\n",
    "    epochs = len(objective_scores)\n",
    "    y_max = int(objective_scores[0])\n",
    "    plt.title('Objective as a function of epoch')\n",
    "    plt.xlabel('epoch')\n",
    "    plt.ylabel('objective score')\n",
    "    plt.yticks(np.arange(0, y_max + 10, 2))\n",
    "    plt.xticks(np.arange(0, epochs+10, 5))\n",
    "    x = range(len(objective_scores))\n",
    "    plt.plot(x, objective_scores, color = 'blue', linestyle = 'None', marker = 'o', markerfacecolor = 'blue', markevery=2,markersize = 8)"
   ]
  },
  {
   "cell_type": "code",
   "execution_count": 282,
   "metadata": {},
   "outputs": [
    {
     "data": {
      "image/png": "[encoded data removed]",
      "text/plain": [
       "<Figure size 432x288 with 1 Axes>"
      ]
     },
     "metadata": {
      "needs_background": "light"
     },
     "output_type": "display_data"
    }
   ],
   "source": [
    "plot_objective_functions(objective_scores)"
   ]
  }
 ],
 "metadata": {
  "kernelspec": {
   "display_name": "Python 3",
   "language": "python",
   "name": "python3"
  },
  "language_info": {
   "codemirror_mode": {
    "name": "ipython",
    "version": 3
   },
   "file_extension": ".py",
   "mimetype": "text/x-python",
   "name": "python",
   "nbconvert_exporter": "python",
   "pygments_lexer": "ipython3",
   "version": "3.8.5"
  }
 },
 "nbformat": 4,
 "nbformat_minor": 2
}
