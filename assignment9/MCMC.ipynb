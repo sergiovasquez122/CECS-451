{
 "cells": [
  {
   "cell_type": "code",
   "execution_count": 142,
   "metadata": {},
   "outputs": [],
   "source": [
    "import numpy as np\n",
    "import pandas as pd"
   ]
  },
  {
   "cell_type": "code",
   "execution_count": 143,
   "metadata": {},
   "outputs": [
    {
     "name": "stdout",
     "output_type": "stream",
     "text": [
      "P(C|-s,r) = <0.878, 0.122>\n",
      "P(C|-s,-r) = <0.310, 0.690>\n",
      "P(R|c, -s, w) = <0.986, 0.014>\n",
      "P(R|-c, -s, w) = <0.818, 0.182>\n"
     ]
    }
   ],
   "source": [
    "print('P(C|-s,r) = <{c1:.3f}, {c2:.3f}>'.format(c1 = .878, c2 = 1 - .878))\n",
    "print('P(C|-s,-r) = <{c1:.3f}, {c2:.3f}>'.format(c1 = .310, c2 = 1 - .310))\n",
    "print('P(R|c, -s, w) = <{r1:.3f}, {r2:.3f}>'.format(r1 = .986, r2 = 1 - .986))\n",
    "print('P(R|-c, -s, w) = <{r1:.3f}, {r2:.3f}>'.format(r1 = .818, r2 = 1 - .818))"
   ]
  },
  {
   "cell_type": "code",
   "execution_count": 144,
   "metadata": {},
   "outputs": [],
   "source": [
    "A = np.zeros(shape = (4,4))"
   ]
  },
  {
   "cell_type": "code",
   "execution_count": 145,
   "metadata": {},
   "outputs": [],
   "source": [
    "# first row\n",
    "A[0][0] = .9321\n",
    "A[0][1] = .0069\n",
    "A[0][2] = .0610\n",
    "# second row\n",
    "A[1][0] = .4931\n",
    "A[1][1] = .162\n",
    "A[1][3] = .3449\n",
    "# third row\n",
    "A[2][0] = .439\n",
    "A[2][2] = .4701\n",
    "A[2][3] = .0909\n",
    "# fourth row\n",
    "A[3][1] = .155\n",
    "A[3][2] = .409\n",
    "A[3][3] = .436"
   ]
  },
  {
   "cell_type": "code",
   "execution_count": 146,
   "metadata": {},
   "outputs": [],
   "source": [
    "df = pd.DataFrame(data = A, columns=['s1', 's2', 's3', 's4'], index = ['s1', 's2', 's3', 's4'])"
   ]
  },
  {
   "cell_type": "code",
   "execution_count": 147,
   "metadata": {},
   "outputs": [
    {
     "name": "stdout",
     "output_type": "stream",
     "text": [
      "The transition probability matrix\n",
      "        s1      s2      s3      s4\n",
      "s1  0.9321  0.0069  0.0610  0.0000\n",
      "s2  0.4931  0.1620  0.0000  0.3449\n",
      "s3  0.4390  0.0000  0.4701  0.0909\n",
      "s4  0.0000  0.1550  0.4090  0.4360\n"
     ]
    }
   ],
   "source": [
    "print('The transition probability matrix')\n",
    "print(df)"
   ]
  },
  {
   "cell_type": "code",
   "execution_count": 148,
   "metadata": {},
   "outputs": [],
   "source": [
    "state = 3\n",
    "true_count = 0\n",
    "false_count = 0\n",
    "for _ in range(int(10e5)):\n",
    "    r = np.random.rand()\n",
    "    running_sum = 0\n",
    "    for i in range(4):\n",
    "        running_sum += A[state][i]\n",
    "        if r < running_sum:\n",
    "            if i <= 1:\n",
    "                true_count += 1\n",
    "            else: \n",
    "                false_count += 1\n",
    "            state = i\n",
    "            break"
   ]
  },
  {
   "cell_type": "code",
   "execution_count": 149,
   "metadata": {},
   "outputs": [
    {
     "name": "stdout",
     "output_type": "stream",
     "text": [
      "P(C|-s,w) = <0.857, 0.143>\n"
     ]
    }
   ],
   "source": [
    " print(\"P(C|-s,w) = <{c1:.3f}, {c2:.3f}>\".format(c1 = true_count / (true_count + false_count), c2 = false_count / (true_count + false_count)))"
   ]
  },
  {
   "cell_type": "code",
   "execution_count": null,
   "metadata": {},
   "outputs": [],
   "source": []
  }
 ],
 "metadata": {
  "kernelspec": {
   "display_name": "Python 3",
   "language": "python",
   "name": "python3"
  },
  "language_info": {
   "codemirror_mode": {
    "name": "ipython",
    "version": 3
   },
   "file_extension": ".py",
   "mimetype": "text/x-python",
   "name": "python",
   "nbconvert_exporter": "python",
   "pygments_lexer": "ipython3",
   "version": "3.8.5"
  }
 },
 "nbformat": 4,
 "nbformat_minor": 4
}
