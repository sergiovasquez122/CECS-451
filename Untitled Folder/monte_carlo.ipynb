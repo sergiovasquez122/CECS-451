{
 "cells": [
  {
   "cell_type": "code",
   "execution_count": 71,
   "metadata": {},
   "outputs": [],
   "source": [
    "import math\n",
    "import numpy as np\n",
    "import matplotlib.pyplot as plt"
   ]
  },
  {
   "cell_type": "code",
   "execution_count": 72,
   "metadata": {},
   "outputs": [],
   "source": [
    "def estimation(n):\n",
    "    points = np.random.rand(n, 2) \n",
    "    points_in_circle_idx = np.where(points[:, 0]**2 + points[:, 1]**2 < 1)\n",
    "    points_not_in_circle_idx = np.where(points[:, 0] ** 2 + points[:, 1]**2 >= 1)\n",
    "    probability = len(points_in_circle_idx) / n\n",
    "    pi_estimation = probability * 4\n",
    "    return points, points_in_circle_idx, points_not_in_circle_idx, pi_estimation"
   ]
  },
  {
   "cell_type": "code",
   "execution_count": 73,
   "metadata": {},
   "outputs": [],
   "source": [
    "points, points_in_circle_idx, points_not_in_circle_idx, pi_estimation = estimation(10000)"
   ]
  },
  {
   "cell_type": "code",
   "execution_count": null,
   "metadata": {},
   "outputs": [],
   "source": [
    "def plot_function(points, points_in_circle_idx, points_not_in_circle_idx):\n",
    "    points_in_circle = points[points_in_circle_idx]\n",
    "    for point in points_in_circle:\n",
    "        plt.scatter(point[0], point[1], color='blue', marker='+', edgecolors='black')\n",
    "    points_not_in_circle = points[points_not_in_circle_idx]\n",
    "    for point in points_not_in_circle:\n",
    "        plt.scatter(point[0], point[1], color = 'red', marker = 'o', edgecolors='black')\n",
    "    plt.show()"
   ]
  },
  {
   "cell_type": "code",
   "execution_count": null,
   "metadata": {},
   "outputs": [],
   "source": [
    "plot_function(points, points_in_circle_idx, points_not_in_circle_idx)"
   ]
  },
  {
   "cell_type": "code",
   "execution_count": null,
   "metadata": {},
   "outputs": [],
   "source": []
  }
 ],
 "metadata": {
  "kernelspec": {
   "display_name": "Python 3",
   "language": "python",
   "name": "python3"
  },
  "language_info": {
   "codemirror_mode": {
    "name": "ipython",
    "version": 3
   },
   "file_extension": ".py",
   "mimetype": "text/x-python",
   "name": "python",
   "nbconvert_exporter": "python",
   "pygments_lexer": "ipython3",
   "version": "3.8.5"
  }
 },
 "nbformat": 4,
 "nbformat_minor": 4
}
