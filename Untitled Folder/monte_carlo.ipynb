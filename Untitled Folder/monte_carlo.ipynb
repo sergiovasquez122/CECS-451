{
 "cells": [
  {
   "cell_type": "code",
   "execution_count": 3,
   "metadata": {},
   "outputs": [],
   "source": [
    "import math\n",
    "import numpy as np\n",
    "import matplotlib.pyplot as plt"
   ]
  },
  {
   "cell_type": "code",
   "execution_count": 52,
   "metadata": {},
   "outputs": [],
   "source": [
    "def estimation(n):\n",
    "    points = np.random.rand(n, 2) \n",
    "    points_in_circle_idx = np.where(points[:, 0]**2 + points[:, 1]**2 < 1)\n",
    "    points_not_in_circle_idx = np.where(points[:, 0]**2 + points[:, 1]**2 >= 1)\n",
    "    points_in_circle = points[points_in_circle_idx]\n",
    "    points_not_in_circle = points[points_not_in_circle_idx]\n",
    "    probability = len(points_in_circle) / n\n",
    "    pi_estimation = probability * 4\n",
    "    print(pi_estimation)\n",
    "    return points"
   ]
  },
  {
   "cell_type": "code",
   "execution_count": 54,
   "metadata": {},
   "outputs": [
    {
     "name": "stdout",
     "output_type": "stream",
     "text": [
      "3.142\n"
     ]
    },
    {
     "data": {
      "text/plain": [
       "array([[0.88684884, 0.60551721],\n",
       "       [0.89860187, 0.97560132],\n",
       "       [0.25378833, 0.22982855],\n",
       "       ...,\n",
       "       [0.71024086, 0.68346115],\n",
       "       [0.09808932, 0.51620399],\n",
       "       [0.276454  , 0.42218809]])"
      ]
     },
     "execution_count": 54,
     "metadata": {},
     "output_type": "execute_result"
    }
   ],
   "source": [
    "estimation(10000)"
   ]
  },
  {
   "cell_type": "code",
   "execution_count": 48,
   "metadata": {},
   "outputs": [
    {
     "data": {
      "text/plain": [
       "1.1376584752083163"
      ]
     },
     "execution_count": 48,
     "metadata": {},
     "output_type": "execute_result"
    }
   ],
   "source": []
  },
  {
   "cell_type": "code",
   "execution_count": null,
   "metadata": {},
   "outputs": [],
   "source": []
  },
  {
   "cell_type": "code",
   "execution_count": null,
   "metadata": {},
   "outputs": [],
   "source": []
  }
 ],
 "metadata": {
  "kernelspec": {
   "display_name": "Python 3",
   "language": "python",
   "name": "python3"
  },
  "language_info": {
   "codemirror_mode": {
    "name": "ipython",
    "version": 3
   },
   "file_extension": ".py",
   "mimetype": "text/x-python",
   "name": "python",
   "nbconvert_exporter": "python",
   "pygments_lexer": "ipython3",
   "version": "3.8.5"
  }
 },
 "nbformat": 4,
 "nbformat_minor": 4
}
