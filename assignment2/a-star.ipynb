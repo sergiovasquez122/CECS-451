{
 "cells": [
  {
   "cell_type": "code",
   "execution_count": 23,
   "metadata": {},
   "outputs": [],
   "source": [
    "import heapq as pq # Use a priority queue as the data structure for the frontier"
   ]
  },
  {
   "cell_type": "code",
   "execution_count": 24,
   "metadata": {},
   "outputs": [],
   "source": [
    "def construct_graph(map_file = 'map.txt', distance_file = 'distances.txt'): # assume file are in same relative path a jupyter-notebook\n",
    "    '''\n",
    "    Returns the graph and heuristic given a map file and distance file\n",
    "    \n",
    "    Parameters:\n",
    "        map_file(string): map_file as string representation\n",
    "        distance_file(string): distance_file as string representation\n",
    "        \n",
    "    Returns:\n",
    "            construct_graph(map_file, distance_file): Returns the graph and heuristic given a map file and distance file\n",
    "    '''\n",
    "    h = {} # heuristic function representation will be a key value pair, where key is city name and value is the heuristic distance\n",
    "    f = open(distance_file, 'r')\n",
    "    for line in f:\n",
    "        split_index = line.find('-')\n",
    "        current_city = line[:split_index] # prior to the split index is the city\n",
    "        distance_to_bucharest = int(line[split_index + 1:]) # everything after split index is the heuristic value of the current city\n",
    "        h[current_city] = distance_to_bucharest\n",
    "\n",
    "    f = open(map_file, 'r')\n",
    "    G = {} # Use an weighted adjacency list representation for the graph \n",
    "    for line in f:\n",
    "        split_index = line.find('-')\n",
    "        current_city = line[:split_index] # prior to the split index is the city name\n",
    "        neighbors = line[split_index + 1:] # everything after will be neighbors and weigths\n",
    "        adj_of_city = []\n",
    "        for neighbor in neighbors.split(','):  # neighbors are comma-separated\n",
    "            neighbor = neighbor.rstrip() # remove newline characters\n",
    "            left_brace_index = neighbor.find('(') # between opening and closing braces will be the distance of the city\n",
    "            neighbor_name = neighbor[:left_brace_index]\n",
    "            neighbor_dist = int(neighbor[left_brace_index + 1 : len(neighbor) - 1])\n",
    "            adj_of_city.append((neighbor_name, neighbor_dist))\n",
    "        G[current_city] = adj_of_city\n",
    "    return G, h # return the constructed graph and the heuristic function"
   ]
  },
  {
   "cell_type": "code",
   "execution_count": 25,
   "metadata": {},
   "outputs": [],
   "source": [
    "def path_to_bucharest(G, h, source):\n",
    "    '''\n",
    "    Returns the path and cost to get to Bucharest given a source node. return None if no such path exists\n",
    "    \n",
    "    Parameters:\n",
    "        G (weighted adjacency list): The graph used to represent the state space\n",
    "        h (dictionary): Dictionary used to retrieve the heuristic value of cities\n",
    "        source (string): the city name represented as a string\n",
    "        \n",
    "    Returns:\n",
    "        path_to_bucharest(G, h, source): return the path and cost to get to Bucharest given a source node. return None if no such path exists\n",
    "    '''\n",
    "    if source not in G: return None # if source is not in the graph no reason to traverse\n",
    "    g = {source : 0} # distance traveled so far\n",
    "    f = {source : h[source]} # estimated distance to travel\n",
    "    frontier = [(f[source], source)]\n",
    "    parent_pointer = {source : None} # used to find path from destination from source if possible\n",
    "    while len(frontier) != 0:\n",
    "        _, current_node = pq.heappop(frontier)\n",
    "        if current_node == \"Bucharest\": # A* guarantees that once the target node has been dequeued the solution is optimal\n",
    "            path = []\n",
    "            while current_node != None:\n",
    "                path.append(current_node)\n",
    "                current_node = parent_pointer[current_node]\n",
    "            path.reverse()\n",
    "            return path, g[\"Bucharest\"] # return the path to bucharest and the total distance traveled to get to it\n",
    "\n",
    "        for neighbor, g_cost in G[current_node]: # traverse nodes adjacent to current node and relax the edge if possible\n",
    "            if neighbor not in parent_pointer or g[current_node] + g_cost + h[neighbor] < f[neighbor]: # did we find a better f(n), if so update\n",
    "                g[neighbor] = g[current_node] + g_cost\n",
    "                f[neighbor] = g[neighbor] + h[neighbor] # evaluation function f(n) = g(n) + h(n) as described in lecture\n",
    "                parent_pointer[neighbor] = current_node # updating parent pointer for when solution is found we can trace back to source\n",
    "                pq.heappush(frontier, (f[neighbor], neighbor))\n",
    "\n",
    "    return None # could not find a path to destination"
   ]
  },
  {
   "cell_type": "code",
   "execution_count": 26,
   "metadata": {},
   "outputs": [],
   "source": [
    "def pretty_print(path, distance_traveled): # used to conform printing to assignment specifications\n",
    "    '''\n",
    "    Pretty prints a path and distance traveled\n",
    "    \n",
    "    Parameters:\n",
    "        path(list): path to bucharest represented as a list\n",
    "        distance_traveled(float): the distance to travel represented as a float\n",
    "        \n",
    "    Returns:\n",
    "        pretty_print(path, distance_traveled): return None\n",
    "    '''\n",
    "    print(\"From city:\", path[0])\n",
    "    print(\"To city:\", path[len(path) - 1])\n",
    "    pretty_path = \"\"\n",
    "    for city in path[:len(path) - 1]:\n",
    "        pretty_path += city + \" - \"\n",
    "    pretty_path += path[len(path) - 1]\n",
    "    print(\"Best route:\", pretty_path)\n",
    "    print(\"Total distance:\", distance_traveled)"
   ]
  },
  {
   "cell_type": "code",
   "execution_count": 27,
   "metadata": {},
   "outputs": [],
   "source": [
    "G, h = construct_graph()"
   ]
  },
  {
   "cell_type": "code",
   "execution_count": 28,
   "metadata": {},
   "outputs": [
    {
     "data": {
      "text/plain": [
       "{'Arad': [('Zerind', 75), ('Sibiu', 140), ('Timisoara', 118)],\n",
       " 'Bucharest': [('Fagaras', 211),\n",
       "  ('Pitesti', 101),\n",
       "  ('Giurgiu', 90),\n",
       "  ('Urziceni', 85)],\n",
       " 'Craiova': [('RimnicuVilcea', 146), ('Dobreta', 120), ('Pitesti', 138)],\n",
       " 'Dobreta': [('Mehadia', 75), ('Craiova', 120)],\n",
       " 'Eforie': [('Hirsova', 86)],\n",
       " 'Fagaras': [('Sibiu', 99), ('Bucharest', 211)],\n",
       " 'Giurgiu': [('Bucharest', 90)],\n",
       " 'Hirsova': [('Urziceni', 98), ('Eforie', 86)],\n",
       " 'Iasi': [('Vaslui', 92), ('Neamt', 87)],\n",
       " 'Lugoj': [('Timisoara', 111), ('Mehadia', 70)],\n",
       " 'Mehadia': [('Lugoj', 70), ('Dobreta', 75)],\n",
       " 'Neamt': [('Iasi', 87)],\n",
       " 'Oradea': [('Zerind', 71), ('Sibiu', 151)],\n",
       " 'Pitesti': [('RimnicuVilcea', 97), ('Bucharest', 101), ('Craiova', 138)],\n",
       " 'RimnicuVilcea': [('Sibiu', 80), ('Pitesti', 97), ('Craiova', 146)],\n",
       " 'Sibiu': [('Oradea', 151),\n",
       "  ('Arad', 140),\n",
       "  ('Fagaras', 99),\n",
       "  ('RimnicuVilcea', 80)],\n",
       " 'Timisoara': [('Arad', 118), ('Lugoj', 111)],\n",
       " 'Urziceni': [('Bucharest', 85), ('Hirsova', 98), ('Vaslui', 142)],\n",
       " 'Vaslui': [('Urziceni', 142), ('Iasi', 92)],\n",
       " 'Zerind': [('Oradea', 71), ('Arad', 75)]}"
      ]
     },
     "execution_count": 28,
     "metadata": {},
     "output_type": "execute_result"
    }
   ],
   "source": [
    "G # display all the content of the graph"
   ]
  },
  {
   "cell_type": "code",
   "execution_count": 29,
   "metadata": {},
   "outputs": [
    {
     "data": {
      "text/plain": [
       "{'Arad': 366,\n",
       " 'Bucharest': 0,\n",
       " 'Craiova': 160,\n",
       " 'Dobreta': 242,\n",
       " 'Eforie': 161,\n",
       " 'Fagaras': 178,\n",
       " 'Giurgiu': 77,\n",
       " 'Hirsova': 151,\n",
       " 'Iasi': 226,\n",
       " 'Lugoj': 244,\n",
       " 'Mehadia': 241,\n",
       " 'Neamt': 234,\n",
       " 'Oradea': 380,\n",
       " 'Pitesti': 98,\n",
       " 'RimnicuVilcea': 193,\n",
       " 'Sibiu': 253,\n",
       " 'Timisoara': 329,\n",
       " 'Urziceni': 80,\n",
       " 'Vaslui': 199,\n",
       " 'Zerind': 374}"
      ]
     },
     "execution_count": 29,
     "metadata": {},
     "output_type": "execute_result"
    }
   ],
   "source": [
    "h # display all the content of the heuristic function"
   ]
  },
  {
   "cell_type": "code",
   "execution_count": 30,
   "metadata": {},
   "outputs": [
    {
     "name": "stdout",
     "output_type": "stream",
     "text": [
      "From city: Arad\n",
      "To city: Bucharest\n",
      "Best route: Arad - Sibiu - RimnicuVilcea - Pitesti - Bucharest\n",
      "Total distance: 418\n",
      "\n",
      "From city: Bucharest\n",
      "To city: Bucharest\n",
      "Best route: Bucharest\n",
      "Total distance: 0\n",
      "\n",
      "From city: Craiova\n",
      "To city: Bucharest\n",
      "Best route: Craiova - Pitesti - Bucharest\n",
      "Total distance: 239\n",
      "\n",
      "From city: Dobreta\n",
      "To city: Bucharest\n",
      "Best route: Dobreta - Craiova - Pitesti - Bucharest\n",
      "Total distance: 359\n",
      "\n",
      "From city: Eforie\n",
      "To city: Bucharest\n",
      "Best route: Eforie - Hirsova - Urziceni - Bucharest\n",
      "Total distance: 269\n",
      "\n",
      "From city: Fagaras\n",
      "To city: Bucharest\n",
      "Best route: Fagaras - Bucharest\n",
      "Total distance: 211\n",
      "\n",
      "From city: Giurgiu\n",
      "To city: Bucharest\n",
      "Best route: Giurgiu - Bucharest\n",
      "Total distance: 90\n",
      "\n",
      "From city: Hirsova\n",
      "To city: Bucharest\n",
      "Best route: Hirsova - Urziceni - Bucharest\n",
      "Total distance: 183\n",
      "\n",
      "From city: Iasi\n",
      "To city: Bucharest\n",
      "Best route: Iasi - Vaslui - Urziceni - Bucharest\n",
      "Total distance: 319\n",
      "\n",
      "From city: Lugoj\n",
      "To city: Bucharest\n",
      "Best route: Lugoj - Mehadia - Dobreta - Craiova - Pitesti - Bucharest\n",
      "Total distance: 504\n",
      "\n",
      "From city: Mehadia\n",
      "To city: Bucharest\n",
      "Best route: Mehadia - Dobreta - Craiova - Pitesti - Bucharest\n",
      "Total distance: 434\n",
      "\n",
      "From city: Neamt\n",
      "To city: Bucharest\n",
      "Best route: Neamt - Iasi - Vaslui - Urziceni - Bucharest\n",
      "Total distance: 406\n",
      "\n",
      "From city: Oradea\n",
      "To city: Bucharest\n",
      "Best route: Oradea - Sibiu - RimnicuVilcea - Pitesti - Bucharest\n",
      "Total distance: 429\n",
      "\n",
      "From city: Pitesti\n",
      "To city: Bucharest\n",
      "Best route: Pitesti - Bucharest\n",
      "Total distance: 101\n",
      "\n",
      "From city: RimnicuVilcea\n",
      "To city: Bucharest\n",
      "Best route: RimnicuVilcea - Pitesti - Bucharest\n",
      "Total distance: 198\n",
      "\n",
      "From city: Sibiu\n",
      "To city: Bucharest\n",
      "Best route: Sibiu - RimnicuVilcea - Pitesti - Bucharest\n",
      "Total distance: 278\n",
      "\n",
      "From city: Timisoara\n",
      "To city: Bucharest\n",
      "Best route: Timisoara - Arad - Sibiu - RimnicuVilcea - Pitesti - Bucharest\n",
      "Total distance: 536\n",
      "\n",
      "From city: Urziceni\n",
      "To city: Bucharest\n",
      "Best route: Urziceni - Bucharest\n",
      "Total distance: 85\n",
      "\n",
      "From city: Vaslui\n",
      "To city: Bucharest\n",
      "Best route: Vaslui - Urziceni - Bucharest\n",
      "Total distance: 227\n",
      "\n",
      "From city: Zerind\n",
      "To city: Bucharest\n",
      "Best route: Zerind - Arad - Sibiu - RimnicuVilcea - Pitesti - Bucharest\n",
      "Total distance: 493\n",
      "\n"
     ]
    }
   ],
   "source": [
    "# go through all cities in the graph and print the best route to Bucharest\n",
    "for city in G.keys():\n",
    "    path, cost = path_to_bucharest(G, h, city) or (None, None) # python needs to unpack two elements so we unpack \n",
    "    if path is not None:\n",
    "        pretty_print(path, cost)\n",
    "        print()"
   ]
  },
  {
   "cell_type": "code",
   "execution_count": 32,
   "metadata": {},
   "outputs": [
    {
     "name": "stdout",
     "output_type": "stream",
     "text": [
      "Enter city name: Zerind\n",
      "From city: Zerind\n",
      "To city: Bucharest\n",
      "Best route: Zerind - Arad - Sibiu - RimnicuVilcea - Pitesti - Bucharest\n",
      "Total distance: 493\n"
     ]
    }
   ],
   "source": [
    "# allow user to use program\n",
    "city_name = input(\"Enter city name: \")\n",
    "path_found, cost = path_to_bucharest(G, h, city_name) or (None, None)\n",
    "if path_found is not None:\n",
    "    pretty_print(path_found, cost)\n",
    "else:\n",
    "    print(\"No route exists\")"
   ]
  },
  {
   "cell_type": "code",
   "execution_count": null,
   "metadata": {},
   "outputs": [],
   "source": []
  }
 ],
 "metadata": {
  "kernelspec": {
   "display_name": "Python 3",
   "language": "python",
   "name": "python3"
  },
  "language_info": {
   "codemirror_mode": {
    "name": "ipython",
    "version": 3
   },
   "file_extension": ".py",
   "mimetype": "text/x-python",
   "name": "python",
   "nbconvert_exporter": "python",
   "pygments_lexer": "ipython3",
   "version": "3.6.10"
  }
 },
 "nbformat": 4,
 "nbformat_minor": 4
}
