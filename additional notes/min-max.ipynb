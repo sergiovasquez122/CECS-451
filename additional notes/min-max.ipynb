{
 "cells": [
  {
   "cell_type": "markdown",
   "metadata": {},
   "source": [
    "# min-max without alpha beta pruning"
   ]
  },
  {
   "cell_type": "code",
   "execution_count": 7,
   "metadata": {},
   "outputs": [],
   "source": [
    "def max_value(s):\n",
    "    if s.isLeaf(): return s.value()\n",
    "    v = -float('inf')\n",
    "    for c in s.nextState():\n",
    "        v_prime = min_value(c)\n",
    "        if v_prime > v:\n",
    "            v = v_prime\n",
    "    return v"
   ]
  },
  {
   "cell_type": "code",
   "execution_count": 8,
   "metadata": {},
   "outputs": [],
   "source": [
    "def min_value(s):\n",
    "    if s.isLeaf(): return s.value()\n",
    "    v = float('inf')\n",
    "    for c in s.nextState():\n",
    "        v_prime = max_value(c)\n",
    "        if v_prime < v:\n",
    "            v = v_prime\n",
    "    return v"
   ]
  },
  {
   "cell_type": "markdown",
   "metadata": {},
   "source": [
    "# min-max with alpha beta pruning"
   ]
  },
  {
   "cell_type": "code",
   "execution_count": 9,
   "metadata": {},
   "outputs": [],
   "source": [
    "def max_value(s, alpha, beta):\n",
    "    if s.isLeaf(): return s.value()\n",
    "    v = -float('inf')\n",
    "    for c in s.nextState():\n",
    "        v_prime = min_value(s, alpha, beta)\n",
    "        v = max(v, v_prime)\n",
    "        if v_prime >= beta: return v\n",
    "        if v_prime > alpha: alpha = v_prime\n",
    "    return v"
   ]
  },
  {
   "cell_type": "code",
   "execution_count": 10,
   "metadata": {},
   "outputs": [],
   "source": [
    "def min_value(s, alpha, beta):\n",
    "    if s.isLeaf(): return s.value()\n",
    "    v = float('inf')\n",
    "    for c in s.nextState():\n",
    "        v_prime = max_value(s, alpha, beta)\n",
    "        if v_prime < v: v = v_prime\n",
    "        if v_prime <= alpha: return v\n",
    "        if v_prime < beta: beta = v_prime\n",
    "    return v"
   ]
  },
  {
   "cell_type": "code",
   "execution_count": null,
   "metadata": {},
   "outputs": [],
   "source": []
  }
 ],
 "metadata": {
  "kernelspec": {
   "display_name": "Python 3",
   "language": "python",
   "name": "python3"
  },
  "language_info": {
   "codemirror_mode": {
    "name": "ipython",
    "version": 3
   },
   "file_extension": ".py",
   "mimetype": "text/x-python",
   "name": "python",
   "nbconvert_exporter": "python",
   "pygments_lexer": "ipython3",
   "version": "3.8.5"
  }
 },
 "nbformat": 4,
 "nbformat_minor": 4
}
