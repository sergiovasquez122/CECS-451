{
 "cells": [
  {
   "cell_type": "code",
   "execution_count": null,
   "metadata": {},
   "outputs": [],
   "source": [
    "import math\n",
    "import numpy as np\n",
    "import matplotlib.pyplot as plt"
   ]
  },
  {
   "cell_type": "code",
   "execution_count": null,
   "metadata": {},
   "outputs": [],
   "source": [
    "def estimation(n):\n",
    "    points = np.random.rand(n, 2) \n",
    "    points_in_circle_idx = np.where(points[:, 0]**2 + points[:, 1]**2 < 1)\n",
    "    points_not_in_circle_idx = np.where(points[:, 0] ** 2 + points[:, 1]**2 >= 1)\n",
    "    probability = len(points[points_in_circle_idx]) / n\n",
    "    pi_estimation = probability * 4\n",
    "    return points, points_in_circle_idx, points_not_in_circle_idx, pi_estimation"
   ]
  },
  {
   "cell_type": "code",
   "execution_count": null,
   "metadata": {},
   "outputs": [],
   "source": [
    "points, points_in_circle_idx, points_not_in_circle_idx, pi_estimation = estimation(2500)"
   ]
  },
  {
   "cell_type": "code",
   "execution_count": null,
   "metadata": {},
   "outputs": [],
   "source": [
    "def plot_function(points, points_in_circle_idx, points_not_in_circle_idx):\n",
    "    points_in_circle = points[points_in_circle_idx]\n",
    "    for point in points_in_circle:\n",
    "        plt.scatter(point[0], point[1], color='blue', marker='+', edgecolors='black')\n",
    "    points_not_in_circle = points[points_not_in_circle_idx]\n",
    "    for point in points_not_in_circle:\n",
    "        plt.scatter(point[0], point[1], color = 'red', marker = 'o', edgecolors='black')\n",
    "    plt.show()"
   ]
  },
  {
   "cell_type": "code",
   "execution_count": null,
   "metadata": {},
   "outputs": [],
   "source": [
    "plot_function(points, points_in_circle_idx, points_not_in_circle_idx)"
   ]
  },
  {
   "cell_type": "code",
   "execution_count": 1,
   "metadata": {},
   "outputs": [
    {
     "ename": "NameError",
     "evalue": "name 'estimation' is not defined",
     "output_type": "error",
     "traceback": [
      "\u001b[1;31m---------------------------------------------------------------------------\u001b[0m",
      "\u001b[1;31mNameError\u001b[0m                                 Traceback (most recent call last)",
      "\u001b[1;32m<ipython-input-1-43836d55b37a>\u001b[0m in \u001b[0;36m<module>\u001b[1;34m\u001b[0m\n\u001b[1;32m----> 1\u001b[1;33m \u001b[0m_\u001b[0m\u001b[1;33m,\u001b[0m \u001b[0m_\u001b[0m\u001b[1;33m,\u001b[0m \u001b[0m_\u001b[0m\u001b[1;33m,\u001b[0m \u001b[0mpi_estimation1\u001b[0m \u001b[1;33m=\u001b[0m \u001b[0mestimation\u001b[0m\u001b[1;33m(\u001b[0m\u001b[0mint\u001b[0m\u001b[1;33m(\u001b[0m\u001b[1;36m10e3\u001b[0m\u001b[1;33m)\u001b[0m\u001b[1;33m)\u001b[0m\u001b[1;33m\u001b[0m\u001b[1;33m\u001b[0m\u001b[0m\n\u001b[0m\u001b[0;32m      2\u001b[0m \u001b[0m_\u001b[0m\u001b[1;33m,\u001b[0m \u001b[0m_\u001b[0m\u001b[1;33m,\u001b[0m \u001b[0m_\u001b[0m\u001b[1;33m,\u001b[0m \u001b[0mpi_estimation2\u001b[0m \u001b[1;33m=\u001b[0m \u001b[0mestimation\u001b[0m\u001b[1;33m(\u001b[0m\u001b[0mint\u001b[0m\u001b[1;33m(\u001b[0m\u001b[1;36m10e4\u001b[0m\u001b[1;33m)\u001b[0m\u001b[1;33m)\u001b[0m\u001b[1;33m\u001b[0m\u001b[1;33m\u001b[0m\u001b[0m\n\u001b[0;32m      3\u001b[0m \u001b[0m_\u001b[0m\u001b[1;33m,\u001b[0m \u001b[0m_\u001b[0m\u001b[1;33m,\u001b[0m \u001b[0m_\u001b[0m\u001b[1;33m,\u001b[0m \u001b[0mpi_estimation3\u001b[0m \u001b[1;33m=\u001b[0m \u001b[0mestimation\u001b[0m\u001b[1;33m(\u001b[0m\u001b[0mint\u001b[0m\u001b[1;33m(\u001b[0m\u001b[1;36m10e5\u001b[0m\u001b[1;33m)\u001b[0m\u001b[1;33m)\u001b[0m\u001b[1;33m\u001b[0m\u001b[1;33m\u001b[0m\u001b[0m\n\u001b[0;32m      4\u001b[0m \u001b[0m_\u001b[0m\u001b[1;33m,\u001b[0m \u001b[0m_\u001b[0m\u001b[1;33m,\u001b[0m \u001b[0m_\u001b[0m\u001b[1;33m,\u001b[0m \u001b[0mpi_estimation4\u001b[0m \u001b[1;33m=\u001b[0m \u001b[0mestimation\u001b[0m\u001b[1;33m(\u001b[0m\u001b[0mint\u001b[0m\u001b[1;33m(\u001b[0m\u001b[1;36m10e6\u001b[0m\u001b[1;33m)\u001b[0m\u001b[1;33m)\u001b[0m\u001b[1;33m\u001b[0m\u001b[1;33m\u001b[0m\u001b[0m\n\u001b[0;32m      5\u001b[0m \u001b[0mprint\u001b[0m\u001b[1;33m(\u001b[0m\u001b[1;34m\"n = 10 ^ 3 pi = {pi_estimation:.6f} error = {error:.5f}\"\u001b[0m\u001b[1;33m.\u001b[0m\u001b[0mformat\u001b[0m\u001b[1;33m(\u001b[0m\u001b[0mpi_estimation\u001b[0m \u001b[1;33m=\u001b[0m \u001b[0mpi_estimation1\u001b[0m\u001b[1;33m,\u001b[0m \u001b[0merror\u001b[0m \u001b[1;33m=\u001b[0m \u001b[0mabs\u001b[0m\u001b[1;33m(\u001b[0m\u001b[0mmath\u001b[0m\u001b[1;33m.\u001b[0m\u001b[0mpi\u001b[0m \u001b[1;33m-\u001b[0m \u001b[0mpi_estimation1\u001b[0m\u001b[1;33m)\u001b[0m\u001b[1;33m)\u001b[0m\u001b[1;33m)\u001b[0m\u001b[1;33m\u001b[0m\u001b[1;33m\u001b[0m\u001b[0m\n",
      "\u001b[1;31mNameError\u001b[0m: name 'estimation' is not defined"
     ]
    }
   ],
   "source": [
    "_, _, _, pi_estimation1 = estimation(int(10e3))\n",
    "_, _, _, pi_estimation2 = estimation(int(10e4))\n",
    "_, _, _, pi_estimation3 = estimation(int(10e5))\n",
    "_, _, _, pi_estimation4 = estimation(int(10e6))\n",
    "print(\"n = 10 ^ 3 pi = {pi_estimation:.6f} error = {error:.5f}\".format(pi_estimation = pi_estimation1, error = abs(math.pi - pi_estimation1)))\n",
    "print(\"n = 10 ^ 4 pi = {pi_estimation:.6f} error = {error:.5f}\".format(pi_estimation = pi_estimation2, error = abs(math.pi - pi_estimation2)))\n",
    "print(\"n = 10 ^ 5 pi = {pi_estimation:.6f} error = {error:.5f}\".format(pi_estimation = pi_estimation3, error = abs(math.pi - pi_estimation3)))\n",
    "print(\"n = 10 ^ 6 pi = {pi_estimation:.6f} error = {error:.5f}\".format(pi_estimation = pi_estimation4, error = abs(math.pi - pi_estimation4)))"
   ]
  },
  {
   "cell_type": "code",
   "execution_count": null,
   "metadata": {},
   "outputs": [],
   "source": []
  },
  {
   "cell_type": "code",
   "execution_count": null,
   "metadata": {},
   "outputs": [],
   "source": []
  }
 ],
 "metadata": {
  "kernelspec": {
   "display_name": "Python 3",
   "language": "python",
   "name": "python3"
  },
  "language_info": {
   "codemirror_mode": {
    "name": "ipython",
    "version": 3
   },
   "file_extension": ".py",
   "mimetype": "text/x-python",
   "name": "python",
   "nbconvert_exporter": "python",
   "pygments_lexer": "ipython3",
   "version": "3.8.5"
  }
 },
 "nbformat": 4,
 "nbformat_minor": 4
}
